{
 "cells": [
  {
   "cell_type": "markdown",
   "id": "cheap-middle",
   "metadata": {},
   "source": [
    "CheatSheet  \n",
    "    |--test  \n",
    "    |--test2  \n",
    "    |--merged.html  \n",
    "    |--merged.ipynb  \n",
    "    |--os.ipynb *  "
   ]
  },
  {
   "cell_type": "markdown",
   "id": "inclusive-resolution",
   "metadata": {},
   "source": [
    "# os"
   ]
  },
  {
   "cell_type": "code",
   "execution_count": 2,
   "id": "progressive-airline",
   "metadata": {},
   "outputs": [],
   "source": [
    "import os"
   ]
  },
  {
   "cell_type": "code",
   "execution_count": 16,
   "id": "eight-structure",
   "metadata": {},
   "outputs": [
    {
     "data": {
      "text/plain": [
       "'/Users/keetane/Documents/python/CheatSheet'"
      ]
     },
     "execution_count": 16,
     "metadata": {},
     "output_type": "execute_result"
    }
   ],
   "source": [
    "# cwdを返す\n",
    "os.getcwd()"
   ]
  },
  {
   "cell_type": "code",
   "execution_count": 43,
   "id": "previous-belle",
   "metadata": {},
   "outputs": [
    {
     "data": {
      "text/plain": [
       "['test',\n",
       " 'os.ipynb',\n",
       " '.ipynb_checkpoints',\n",
       " 'test2',\n",
       " 'merged.ipynb',\n",
       " 'merged.html']"
      ]
     },
     "execution_count": 43,
     "metadata": {},
     "output_type": "execute_result"
    }
   ],
   "source": [
    "# cwdのlistを返す\n",
    "os.listdir()\n",
    "# = os.listdir(os.getcwd())"
   ]
  },
  {
   "cell_type": "code",
   "execution_count": 44,
   "id": "sapphire-partnership",
   "metadata": {},
   "outputs": [
    {
     "data": {
      "text/plain": [
       "'test'"
      ]
     },
     "execution_count": 44,
     "metadata": {},
     "output_type": "execute_result"
    }
   ],
   "source": [
    "os.listdir()[0]"
   ]
  },
  {
   "cell_type": "code",
   "execution_count": 3,
   "id": "ranging-monaco",
   "metadata": {},
   "outputs": [
    {
     "data": {
      "text/plain": [
       "'/Users/keetane/Documents'"
      ]
     },
     "execution_count": 3,
     "metadata": {},
     "output_type": "execute_result"
    }
   ],
   "source": [
    "# Parent Directoryを返す\n",
    "os.path.dirname(os.getcwd())"
   ]
  },
  {
   "cell_type": "code",
   "execution_count": 5,
   "id": "confirmed-sauce",
   "metadata": {},
   "outputs": [
    {
     "data": {
      "text/plain": [
       "'CheatSheet'"
      ]
     },
     "execution_count": 5,
     "metadata": {},
     "output_type": "execute_result"
    }
   ],
   "source": [
    "# Directory名を返す\n",
    "os.path.basename(os.getcwd())\n",
    "# os.path.basename(__file__)は実行中のファイル名を返す. .ipynbでは不可."
   ]
  },
  {
   "cell_type": "code",
   "execution_count": 29,
   "id": "several-november",
   "metadata": {},
   "outputs": [
    {
     "data": {
      "text/plain": [
       "['untitled folder',\n",
       " 'Lyrics',\n",
       " 'cameDS',\n",
       " 'sc',\n",
       " '.DS_Store',\n",
       " 'renamer',\n",
       " 'test',\n",
       " 'Pytube',\n",
       " 'PandasProfiling',\n",
       " 'word_cloud',\n",
       " 'screenshot2pdf',\n",
       " 'Stocks',\n",
       " 'PythonCheatSheet.html',\n",
       " 'DirZipper',\n",
       " '.ipynb_checkpoints',\n",
       " 'Uniprot',\n",
       " 'Chem',\n",
       " 'CheatSheet']"
      ]
     },
     "execution_count": 29,
     "metadata": {},
     "output_type": "execute_result"
    }
   ],
   "source": [
    "# cwdの一つ上のDirectoryにあるファイル名とディレクトリ名のリストを返す\n",
    "os.listdir(os.path.dirname(os.getcwd()))"
   ]
  },
  {
   "cell_type": "code",
   "execution_count": 36,
   "id": "vital-david",
   "metadata": {},
   "outputs": [
    {
     "data": {
      "text/plain": [
       "True"
      ]
     },
     "execution_count": 36,
     "metadata": {},
     "output_type": "execute_result"
    }
   ],
   "source": [
    "# cwdがDirectoryならばTrueを返す\n",
    "os.path.isdir(os.getcwd())"
   ]
  },
  {
   "cell_type": "code",
   "execution_count": 49,
   "id": "binary-fashion",
   "metadata": {},
   "outputs": [
    {
     "data": {
      "text/plain": [
       "'/Users/keetane/Documents/python/CheatSheet/new.csv'"
      ]
     },
     "execution_count": 49,
     "metadata": {},
     "output_type": "execute_result"
    }
   ],
   "source": [
    "# 新しくnew.csvというパスをcwdに作成\n",
    "os.path.join(os.getcwd(), 'new.csv')"
   ]
  },
  {
   "cell_type": "code",
   "execution_count": 51,
   "id": "primary-bride",
   "metadata": {},
   "outputs": [
    {
     "data": {
      "text/plain": [
       "'/Users/keetane/Documents/python/CheatSheet/test'"
      ]
     },
     "execution_count": 51,
     "metadata": {},
     "output_type": "execute_result"
    }
   ],
   "source": [
    "# cwd中のリストの[0]を指定\n",
    "os.path.join(os.getcwd(), os.listdir()[0])"
   ]
  },
  {
   "cell_type": "code",
   "execution_count": 53,
   "id": "damaged-secret",
   "metadata": {},
   "outputs": [
    {
     "data": {
      "text/plain": [
       "True"
      ]
     },
     "execution_count": 53,
     "metadata": {},
     "output_type": "execute_result"
    }
   ],
   "source": [
    "# cwd中のリスト[0]がdirの場合にTrueを返す\n",
    "os.path.isdir(os.path.join(os.getcwd(), os.listdir()[0]))"
   ]
  },
  {
   "cell_type": "code",
   "execution_count": 56,
   "id": "dried-royal",
   "metadata": {},
   "outputs": [
    {
     "data": {
      "text/plain": [
       "['os.ipynb', 'merged.ipynb', 'merged.html']"
      ]
     },
     "execution_count": 56,
     "metadata": {},
     "output_type": "execute_result"
    }
   ],
   "source": [
    "# cwd中のfileをリストで返す\n",
    "[f for f in os.listdir() if os.path.isfile(os.path.join(os.getcwd(), f))]"
   ]
  },
  {
   "cell_type": "code",
   "execution_count": 57,
   "id": "threaded-surprise",
   "metadata": {},
   "outputs": [
    {
     "data": {
      "text/plain": [
       "['test', '.ipynb_checkpoints', 'test2']"
      ]
     },
     "execution_count": 57,
     "metadata": {},
     "output_type": "execute_result"
    }
   ],
   "source": [
    "# cwd中のDirectoryをリストで返す\n",
    "[f for f in os.listdir() if os.path.isdir(os.path.join(os.getcwd(), f))]"
   ]
  },
  {
   "cell_type": "markdown",
   "id": "suitable-storage",
   "metadata": {},
   "source": [
    "# glob"
   ]
  },
  {
   "cell_type": "code",
   "execution_count": 62,
   "id": "binding-sierra",
   "metadata": {},
   "outputs": [],
   "source": [
    "import glob"
   ]
  },
  {
   "cell_type": "code",
   "execution_count": 64,
   "id": "dynamic-deviation",
   "metadata": {},
   "outputs": [
    {
     "data": {
      "text/plain": [
       "['test', 'os.ipynb', 'test2', 'merged.ipynb', 'merged.html']"
      ]
     },
     "execution_count": 64,
     "metadata": {},
     "output_type": "execute_result"
    }
   ],
   "source": [
    "glob.glob(\"*\")"
   ]
  },
  {
   "cell_type": "code",
   "execution_count": null,
   "id": "assigned-craps",
   "metadata": {},
   "outputs": [],
   "source": []
  }
 ],
 "metadata": {
  "kernelspec": {
   "display_name": "Python 3",
   "language": "python",
   "name": "python3"
  },
  "language_info": {
   "codemirror_mode": {
    "name": "ipython",
    "version": 3
   },
   "file_extension": ".py",
   "mimetype": "text/x-python",
   "name": "python",
   "nbconvert_exporter": "python",
   "pygments_lexer": "ipython3",
   "version": "3.10.12"
  }
 },
 "nbformat": 4,
 "nbformat_minor": 5
}
