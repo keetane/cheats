{
 "cells": [
  {
   "cell_type": "code",
   "execution_count": 35,
   "metadata": {},
   "outputs": [
    {
     "data": {
      "text/plain": [
       "<Response [200]>"
      ]
     },
     "execution_count": 35,
     "metadata": {},
     "output_type": "execute_result"
    }
   ],
   "source": [
    "import requests\n",
    "\n",
    "query = '''\n",
    "    {\n",
    "    entry(entry_id:\"'''  + '5UT2' + '''\") {\n",
    "      rcsb_id\n",
    "    struct {\n",
    "      title\n",
    "    }\n",
    "        nonpolymer_entities {\n",
    "        rcsb_nonpolymer_entity_container_identifiers {\n",
    "            entry_id\n",
    "        }\n",
    "        nonpolymer_comp {\n",
    "            chem_comp {\n",
    "            id\n",
    "            type\n",
    "            }\n",
    "            pdbx_chem_comp_descriptor {\n",
    "            descriptor\n",
    "            type\n",
    "            program\n",
    "            }\n",
    "        }\n",
    "        }\n",
    "    }\n",
    "    }\n",
    "    '''\n",
    "\n",
    "# url = \"https://data.rcsb.org/graphql?query=\"\n",
    "# response = requests.get(url, params=query)\n",
    "# json_data = response.json()\n",
    "# json_data\n",
    "url = \"https://data.rcsb.org/graphql?query=\" + query\n",
    "response = requests.get(url)\n",
    "response"
   ]
  },
  {
   "cell_type": "code",
   "execution_count": 20,
   "metadata": {},
   "outputs": [
    {
     "data": {
      "text/plain": [
       "{'message': None,\n",
       " 'results': [{'address1': '高知県',\n",
       "   'address2': '南国市',\n",
       "   'address3': '蛍が丘',\n",
       "   'kana1': 'ｺｳﾁｹﾝ',\n",
       "   'kana2': 'ﾅﾝｺｸｼ',\n",
       "   'kana3': 'ﾎﾀﾙｶﾞｵｶ',\n",
       "   'prefcode': '39',\n",
       "   'zipcode': '7830060'}],\n",
       " 'status': 200}"
      ]
     },
     "execution_count": 20,
     "metadata": {},
     "output_type": "execute_result"
    }
   ],
   "source": [
    "import requests\n",
    " \n",
    "# URL, パラメータの指定\n",
    "url = 'https://zipcloud.ibsnet.co.jp/api/search'\n",
    "params = {'zipcode': '7830060'}  #ここに調べたい郵便番号を記述\n",
    " \n",
    "response = requests.get(url, params=params)\n",
    " \n",
    "response.json()\n",
    " \n",
    "# レスポンス全文\n",
    "# {\n",
    "#     \"message\": null,\n",
    "#     \"results\": [\n",
    "#         {\n",
    "#              \"address1\": \"高知県\",\n",
    "#              \"address2\": \"南国市\",\n",
    "#              \"address3\": \"蛍が丘\",\n",
    "#              \"kana1\": \"ｺｳﾁｹﾝ\",\n",
    "#              \"kana2\": \"ﾅﾝｺｸｼ\",\n",
    "#              \"kana3\": \"ﾎﾀﾙｶﾞｵｶ\",\n",
    "#              \"prefcode\": \"39\",\n",
    "#              \"zipcode\": \"7830060\"\n",
    "#         }\n",
    "#     ],\n",
    "#     \"status\": 200\n",
    "# }"
   ]
  },
  {
   "cell_type": "code",
   "execution_count": 34,
   "metadata": {},
   "outputs": [
    {
     "data": {
      "text/plain": [
       "'https://data.rcsb.org/graphql?query=\\n    {\\n    entry(entry_id:\"5UT2\") {\\n      rcsb_id\\n    struct {\\n      title\\n    }\\n        nonpolymer_entities {\\n        rcsb_nonpolymer_entity_container_identifiers {\\n            entry_id\\n        }\\n        nonpolymer_comp {\\n            chem_comp {\\n            id\\n            type\\n            }\\n            pdbx_chem_comp_descriptor {\\n            descriptor\\n            type\\n            program\\n            }\\n        }\\n        }\\n    }\\n    }\\n    '"
      ]
     },
     "execution_count": 34,
     "metadata": {},
     "output_type": "execute_result"
    }
   ],
   "source": [
    "url"
   ]
  },
  {
   "cell_type": "code",
   "execution_count": 31,
   "metadata": {},
   "outputs": [
    {
     "data": {
      "text/plain": [
       "{'errors': [{'message': \"Invalid syntax with ANTLR error 'token recognition error at: '''' at line 1 column 17\",\n",
       "   'locations': [{'line': 1, 'column': 17}],\n",
       "   'extensions': {'classification': 'InvalidSyntax'}}],\n",
       " 'data': None}"
      ]
     },
     "execution_count": 31,
     "metadata": {},
     "output_type": "execute_result"
    }
   ],
   "source": [
    "# url = \"https://data.rcsb.org/graphql?query={entry(entry_id:'5UT2'){nonpolymer_entities{rcsb_nonpolymer_entity_container_identifiers{entry_id}}}}\"\n",
    "response = requests.get(url)\n",
    "response.json()"
   ]
  },
  {
   "cell_type": "code",
   "execution_count": null,
   "metadata": {},
   "outputs": [],
   "source": [
    "'https://data.rcsb.org/graphql?query=\\n    {\\n    entry(entry_id:\"5UT2\") {\\n      rcsb_id\\n    struct {\\n      title\\n    }\\n        nonpolymer_entities {\\n        rcsb_nonpolymer_entity_container_identifiers {\\n            entry_id\\n        }\\n        nonpolymer_comp {\\n            chem_comp {\\n            id\\n            type}pdbx_chem_comp_descriptor {descriptortypeprogram}}}}}'"
   ]
  }
 ],
 "metadata": {
  "kernelspec": {
   "display_name": "bi2",
   "language": "python",
   "name": "python3"
  },
  "language_info": {
   "codemirror_mode": {
    "name": "ipython",
    "version": 3
   },
   "file_extension": ".py",
   "mimetype": "text/x-python",
   "name": "python",
   "nbconvert_exporter": "python",
   "pygments_lexer": "ipython3",
   "version": "3.10.12"
  },
  "orig_nbformat": 4
 },
 "nbformat": 4,
 "nbformat_minor": 2
}
